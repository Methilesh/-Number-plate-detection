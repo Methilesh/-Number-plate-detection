{
 "cells": [
  {
   "cell_type": "code",
   "execution_count": 1,
   "id": "1758f62c",
   "metadata": {},
   "outputs": [],
   "source": [
    "import cv2\n",
    "import imutils #We will need this library to resize our images.\n",
    "import pytesseract #We will need this library to extract the license plate text from the detected license plate.\n",
    "\n",
    "pytesseract.pytesseract.tesseract_cmd = r\"C:\\Users\\Methilesh K\\Downloads\\download (2).jpeg\"\n",
    "\n",
    "image = cv2.imread(r\"C:\\Users\\Methilesh K\\Downloads\\download (2).jpeg\")\n",
    "resized_image = imutils.resize(image)\n",
    "cv2.imshow('original image', image)\n",
    "cv2.waitKey(0)\n",
    "\n",
    "gray_image = cv2.cvtColor(image, cv2.COLOR_BGR2GRAY)\n",
    "cv2.imshow(\"greyed image\", gray_image)\n",
    "cv2.waitKey(0)\n",
    "\n",
    "gray_image = cv2.bilateralFilter(gray_image, 11, 17, 17) \n",
    "cv2.imshow(\"smoothened image\", gray_image)\n",
    "cv2.waitKey(0)\n",
    "\n",
    "edged = cv2.Canny(gray_image, 30, 200) \n",
    "cv2.imshow(\"edged image\", edged)\n",
    "cv2.waitKey(0)\n",
    "\n",
    "cnts,new = cv2.findContours(edged.copy(), cv2.RETR_LIST, cv2.CHAIN_APPROX_SIMPLE)\n",
    "image1=image.copy()\n",
    "cv2.drawContours(image1,cnts,-1,(0,255,0),3)\n",
    "cv2.imshow(\"contours\",image1)\n",
    "cv2.waitKey(0)\n",
    "\n",
    "cnts = sorted(cnts, key = cv2.contourArea, reverse = True) [:30]\n",
    "screenCnt = None\n",
    "image2 = image.copy()\n",
    "cv2.drawContours(image2,cnts,-1,(0,255,0),3)\n",
    "cv2.imshow(\"Top 30 contours\",image2)\n",
    "cv2.waitKey(0)\n",
    "\n",
    "i=7\n",
    "for c in cnts:\n",
    "        perimeter = cv2.arcLength(c, True)\n",
    "        approx = cv2.approxPolyDP(c, 0.018 * perimeter, True)\n",
    "        if len(approx) == 4: \n",
    "                screenCnt = approx\n",
    "                x,y,w,h = cv2.boundingRect(c) \n",
    "                new_img=image[y:y+h,x:x+w]\n",
    "                cv2.imwrite('./'+str(i)+'.png',new_img)\n",
    "                i+=1\n",
    "                break\n",
    "            \n",
    "cv2.drawContours(image, [screenCnt], -1, (0, 255, 0), 3)\n",
    "cv2.imshow(\"image with detected license plate\", image)\n",
    "cv2.waitKey(0)\n",
    "cv2.destroyAllWindows()"
   ]
  },
  {
   "cell_type": "code",
   "execution_count": null,
   "id": "83549671",
   "metadata": {},
   "outputs": [],
   "source": []
  }
 ],
 "metadata": {
  "kernelspec": {
   "display_name": "Python 3 (ipykernel)",
   "language": "python",
   "name": "python3"
  },
  "language_info": {
   "codemirror_mode": {
    "name": "ipython",
    "version": 3
   },
   "file_extension": ".py",
   "mimetype": "text/x-python",
   "name": "python",
   "nbconvert_exporter": "python",
   "pygments_lexer": "ipython3",
   "version": "3.10.13"
  }
 },
 "nbformat": 4,
 "nbformat_minor": 5
}
